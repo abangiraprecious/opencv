{
 "cells": [
  {
   "cell_type": "code",
   "execution_count": 1,
   "id": "ee8e9a92",
   "metadata": {},
   "outputs": [
    {
     "name": "stdout",
     "output_type": "stream",
     "text": [
      "Testing OpenCV in-memory operations...\n",
      "OpenCV version: 4.12.0\n",
      "✅ Green square created!\n",
      "Image shape: (100, 100, 3)\n",
      "Test passed! 🎉\n"
     ]
    }
   ],
   "source": [
    "import cv2\n",
    "import numpy as np\n",
    "\n",
    "print(\"Testing OpenCV in-memory operations...\")\n",
    "print(\"OpenCV version:\", cv2.__version__)\n",
    "\n",
    "# Create the green square that worked before\n",
    "img = np.zeros((100, 100, 3), dtype=np.uint8)\n",
    "cv2.rectangle(img, (20, 20), (80, 80), (0, 255, 0), 2)\n",
    "\n",
    "print(\"✅ Green square created!\")\n",
    "print(\"Image shape:\", img.shape)\n",
    "print(\"Test passed! 🎉\")"
   ]
  }
 ],
 "metadata": {
  "kernelspec": {
   "display_name": "Python 3",
   "language": "python",
   "name": "python3"
  },
  "language_info": {
   "codemirror_mode": {
    "name": "ipython",
    "version": 3
   },
   "file_extension": ".py",
   "mimetype": "text/x-python",
   "name": "python",
   "nbconvert_exporter": "python",
   "pygments_lexer": "ipython3",
   "version": "3.12.5"
  }
 },
 "nbformat": 4,
 "nbformat_minor": 5
}
