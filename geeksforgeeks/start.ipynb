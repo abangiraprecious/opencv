{
 "cells": [
  {
   "cell_type": "code",
   "execution_count": 1,
   "id": "dfaf17a2",
   "metadata": {},
   "outputs": [],
   "source": [
    "import cv2 #for image reading and processng\n",
    "import numpy as np # for image array operation (used internally)\n",
    "import matplotlib.pyplot as plt # for displaying the image visually\n",
    "import os # for potentional path operations (though not directly used here)"
   ]
  },
  {
   "cell_type": "code",
   "execution_count": 2,
   "id": "62d0712c",
   "metadata": {},
   "outputs": [],
   "source": [
    "image_path = '/content/Sample_CV.jpg'"
   ]
  },
  {
   "cell_type": "code",
   "execution_count": 3,
   "id": "e6b10ab3",
   "metadata": {},
   "outputs": [
    {
     "name": "stderr",
     "output_type": "stream",
     "text": [
      "[ WARN:0@7.873] global loadsave.cpp:241 findDecoder imread_('/content/Sample_CV.jpg'): can't open/read file: check file path/integrity\n"
     ]
    }
   ],
   "source": [
    "img = cv2.imread(image_path)"
   ]
  },
  {
   "cell_type": "code",
   "execution_count": 5,
   "id": "30c61211-12c6-4786-a8af-6f7e5c2f916b",
   "metadata": {},
   "outputs": [
    {
     "ename": "error",
     "evalue": "OpenCV(4.10.0) /private/var/folders/sy/f16zz6x50xz3113nwtb9bvq00000gp/T/abs_6fgmd9qll_/croot/opencv-suite_1738943363192/work/modules/imgproc/src/color.cpp:196: error: (-215:Assertion failed) !_src.empty() in function 'cvtColor'\n",
     "output_type": "error",
     "traceback": [
      "\u001b[0;31m---------------------------------------------------------------------------\u001b[0m",
      "\u001b[0;31merror\u001b[0m                                     Traceback (most recent call last)",
      "Cell \u001b[0;32mIn[5], line 1\u001b[0m\n\u001b[0;32m----> 1\u001b[0m img_rgb \u001b[38;5;241m=\u001b[39m cv2\u001b[38;5;241m.\u001b[39mcvtColor(img, cv2\u001b[38;5;241m.\u001b[39mCOLOR_BGR2RGB)\n\u001b[1;32m      3\u001b[0m img_gray \u001b[38;5;241m=\u001b[39m cv2\u001b[38;5;241m.\u001b[39mcvtColor(img, cv2\u001b[38;5;241m.\u001b[39mCOLOR_BGR2GRAY)\n",
      "\u001b[0;31merror\u001b[0m: OpenCV(4.10.0) /private/var/folders/sy/f16zz6x50xz3113nwtb9bvq00000gp/T/abs_6fgmd9qll_/croot/opencv-suite_1738943363192/work/modules/imgproc/src/color.cpp:196: error: (-215:Assertion failed) !_src.empty() in function 'cvtColor'\n"
     ]
    }
   ],
   "source": [
    "img_rgb = cv2.cvtColor(img, cv2.COLOR_BGR2RGB)\n",
    "\n",
    "img_gray = cv2.cvtColor(img, cv2.COLOR_BGR2GRAY)"
   ]
  },
  {
   "cell_type": "code",
   "execution_count": null,
   "id": "67329c67-f047-4866-a6d5-3284cb48ec95",
   "metadata": {},
   "outputs": [],
   "source": []
  }
 ],
 "metadata": {
  "kernelspec": {
   "display_name": "base",
   "language": "python",
   "name": "python3"
  },
  "language_info": {
   "codemirror_mode": {
    "name": "ipython",
    "version": 3
   },
   "file_extension": ".py",
   "mimetype": "text/x-python",
   "name": "python",
   "nbconvert_exporter": "python",
   "pygments_lexer": "ipython3",
   "version": "3.12.2"
  }
 },
 "nbformat": 4,
 "nbformat_minor": 5
}
